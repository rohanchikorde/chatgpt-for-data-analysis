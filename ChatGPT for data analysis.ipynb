{
 "cells": [
  {
   "cell_type": "markdown",
   "id": "8ff08666",
   "metadata": {},
   "source": [
    "# Generate sample data"
   ]
  },
  {
   "cell_type": "code",
   "execution_count": 1,
   "id": "31b13824",
   "metadata": {},
   "outputs": [
    {
     "name": "stdout",
     "output_type": "stream",
     "text": [
      "   CustomerID             Name  Age State  Annual Income\n",
      "0           1      Sarah Brown   40    OR          73001\n",
      "1           2      David Brown   52    CT         106552\n",
      "2           3  Michael Johnson   31    MA          53897\n",
      "3           4   David Williams   41    FL          98148\n",
      "4           5      David Brown   44    RI          53483\n",
      "5           6   Sarah Williams   46    LA          78555\n",
      "6           7      Emily Brown   47    AR          47159\n",
      "7           8       Jane Jones   35    MO         140510\n",
      "8           9      Emily Davis   34    IN         136530\n",
      "9          10       Jane Jones   22    WY         110077\n"
     ]
    }
   ],
   "source": [
    "import pandas as pd\n",
    "import numpy as np\n",
    "\n",
    "# Set random seed for reproducibility\n",
    "np.random.seed(42)\n",
    "\n",
    "# Define the number of rows in the DataFrame\n",
    "num_rows = 10\n",
    "\n",
    "# Define the state abbreviations for the 50 US states\n",
    "state_abbreviations = ['AL', 'AK', 'AZ', 'AR', 'CA', 'CO', 'CT', 'DE', 'FL', 'GA',\n",
    "                       'HI', 'ID', 'IL', 'IN', 'IA', 'KS', 'KY', 'LA', 'ME', 'MD',\n",
    "                       'MA', 'MI', 'MN', 'MS', 'MO', 'MT', 'NE', 'NV', 'NH', 'NJ',\n",
    "                       'NM', 'NY', 'NC', 'ND', 'OH', 'OK', 'OR', 'PA', 'RI', 'SC',\n",
    "                       'SD', 'TN', 'TX', 'UT', 'VT', 'VA', 'WA', 'WV', 'WI', 'WY']\n",
    "\n",
    "# Generate random sample data\n",
    "customer_data = {\n",
    "    'CustomerID': range(1, num_rows + 1),\n",
    "    'Name': [' '.join(np.random.choice(['John', 'Jane', 'David', 'Sarah', 'Michael', 'Emily'], 1)) +\n",
    "             ' ' +\n",
    "             np.random.choice(['Smith', 'Johnson', 'Williams', 'Jones', 'Brown', 'Davis'], 1)[0]\n",
    "             for _ in range(num_rows)],\n",
    "    'Age': np.random.randint(20, 61, num_rows),\n",
    "    'State': np.random.choice(state_abbreviations, num_rows),\n",
    "    'Annual Income': np.random.randint(30000, 150001, num_rows)\n",
    "}\n",
    "\n",
    "# Create the DataFrame\n",
    "df = pd.DataFrame(customer_data)\n",
    "\n",
    "# Print the DataFrame\n",
    "print(df)"
   ]
  },
  {
   "cell_type": "markdown",
   "id": "0c50bea2",
   "metadata": {},
   "source": [
    "# Central Tendency "
   ]
  },
  {
   "cell_type": "code",
   "execution_count": 2,
   "id": "a29f3d2a",
   "metadata": {},
   "outputs": [
    {
     "name": "stdout",
     "output_type": "stream",
     "text": [
      "Age Mean: 39.2\n",
      "Age Median: 40.5\n",
      "Age Mode: [22 31 34 35 40 41 44 46 47 52]\n",
      "Income Mean: 89791.2\n",
      "Income Median: 88351.5\n",
      "Income Mode: [ 47159  53483  53897  73001  78555  98148 106552 110077 136530 140510]\n"
     ]
    }
   ],
   "source": [
    "import pandas as pd\n",
    "\n",
    "# Calculate the mean\n",
    "age_mean = df['Age'].mean()\n",
    "income_mean = df['Annual Income'].mean()\n",
    "\n",
    "# Calculate the median\n",
    "age_median = df['Age'].median()\n",
    "income_median = df['Annual Income'].median()\n",
    "\n",
    "# Calculate the mode\n",
    "age_mode = df['Age'].mode().values\n",
    "income_mode = df['Annual Income'].mode().values\n",
    "\n",
    "# Print the results\n",
    "print(\"Age Mean:\", age_mean)\n",
    "print(\"Age Median:\", age_median)\n",
    "print(\"Age Mode:\", age_mode)\n",
    "\n",
    "print(\"Income Mean:\", income_mean)\n",
    "print(\"Income Median:\", income_median)\n",
    "print(\"Income Mode:\", income_mode)"
   ]
  },
  {
   "cell_type": "code",
   "execution_count": null,
   "id": "3af2a855",
   "metadata": {},
   "outputs": [],
   "source": [
    "# "
   ]
  },
  {
   "cell_type": "code",
   "execution_count": 3,
   "id": "0a49b9d6",
   "metadata": {},
   "outputs": [
    {
     "name": "stdout",
     "output_type": "stream",
     "text": [
      "Age Range: 30\n",
      "Age Variance: 78.4\n",
      "Age Standard Deviation: 8.854377448471462\n",
      "Income Range: 93351\n",
      "Income Variance: 1150170307.5111113\n",
      "Income Standard Deviation: 33914.1608699244\n"
     ]
    }
   ],
   "source": [
    "import pandas as pd\n",
    "\n",
    "# Calculate the range\n",
    "age_range = df['Age'].max() - df['Age'].min()\n",
    "income_range = df['Annual Income'].max() - df['Annual Income'].min()\n",
    "\n",
    "# Calculate the variance\n",
    "age_variance = df['Age'].var()\n",
    "income_variance = df['Annual Income'].var()\n",
    "\n",
    "# Calculate the standard deviation\n",
    "age_std_dev = df['Age'].std()\n",
    "income_std_dev = df['Annual Income'].std()\n",
    "\n",
    "# Print the results\n",
    "print(\"Age Range:\", age_range)\n",
    "print(\"Age Variance:\", age_variance)\n",
    "print(\"Age Standard Deviation:\", age_std_dev)\n",
    "\n",
    "print(\"Income Range:\", income_range)\n",
    "print(\"Income Variance:\", income_variance)\n",
    "print(\"Income Standard Deviation:\", income_std_dev)"
   ]
  },
  {
   "cell_type": "code",
   "execution_count": 4,
   "id": "5187e9bf",
   "metadata": {},
   "outputs": [
    {
     "name": "stdout",
     "output_type": "stream",
     "text": [
      "Age Percentiles:\n",
      "Q1 (25th percentile): 34.25\n",
      "Median (50th percentile): 40.5\n",
      "Q3 (75th percentile): 45.5\n",
      "\n",
      "Income Percentiles:\n",
      "Q1 (25th percentile): 58673.0\n",
      "Median (50th percentile): 88351.5\n",
      "Q3 (75th percentile): 109195.75\n"
     ]
    }
   ],
   "source": [
    "import pandas as pd\n",
    "\n",
    "# Calculate the percentiles\n",
    "age_percentiles = df['Age'].quantile([0.25, 0.5, 0.75])\n",
    "income_percentiles = df['Annual Income'].quantile([0.25, 0.5, 0.75])\n",
    "\n",
    "# Extract the quartiles\n",
    "age_q1, age_median, age_q3 = age_percentiles\n",
    "income_q1, income_median, income_q3 = income_percentiles\n",
    "\n",
    "# Print the results\n",
    "print(\"Age Percentiles:\")\n",
    "print(\"Q1 (25th percentile):\", age_q1)\n",
    "print(\"Median (50th percentile):\", age_median)\n",
    "print(\"Q3 (75th percentile):\", age_q3)\n",
    "\n",
    "print(\"\\nIncome Percentiles:\")\n",
    "print(\"Q1 (25th percentile):\", income_q1)\n",
    "print(\"Median (50th percentile):\", income_median)\n",
    "print(\"Q3 (75th percentile):\", income_q3)"
   ]
  },
  {
   "cell_type": "code",
   "execution_count": 5,
   "id": "a447d80b",
   "metadata": {},
   "outputs": [
    {
     "name": "stdout",
     "output_type": "stream",
     "text": [
      "Age Skewness: -0.5705026251284709\n",
      "Income Skewness: 0.2437732997273244\n",
      "\n",
      "Age Kurtosis: 0.14576174857698376\n",
      "Income Kurtosis: -1.2971667675316083\n"
     ]
    }
   ],
   "source": [
    "import pandas as pd\n",
    "\n",
    "# Calculate the skewness\n",
    "age_skewness = df['Age'].skew()\n",
    "income_skewness = df['Annual Income'].skew()\n",
    "\n",
    "# Calculate the kurtosis\n",
    "age_kurtosis = df['Age'].kurtosis()\n",
    "income_kurtosis = df['Annual Income'].kurtosis()\n",
    "\n",
    "# Print the results\n",
    "print(\"Age Skewness:\", age_skewness)\n",
    "print(\"Income Skewness:\", income_skewness)\n",
    "\n",
    "print(\"\\nAge Kurtosis:\", age_kurtosis)\n",
    "print(\"Income Kurtosis:\", income_kurtosis)"
   ]
  },
  {
   "cell_type": "code",
   "execution_count": 6,
   "id": "ad95462c",
   "metadata": {},
   "outputs": [
    {
     "name": "stdout",
     "output_type": "stream",
     "text": [
      "        Age  Annual Income\n",
      "State                     \n",
      "AR     47.0        47159.0\n",
      "CT     52.0       106552.0\n",
      "FL     41.0        98148.0\n",
      "IN     34.0       136530.0\n",
      "LA     46.0        78555.0\n",
      "MA     31.0        53897.0\n",
      "MO     35.0       140510.0\n",
      "OR     40.0        73001.0\n",
      "RI     44.0        53483.0\n",
      "WY     22.0       110077.0\n"
     ]
    }
   ],
   "source": [
    "import pandas as pd\n",
    "\n",
    "# Group the data by State and calculate the average age and income\n",
    "grouped_data = df.groupby('State').agg({'Age': 'mean', 'Annual Income': 'mean'})\n",
    "\n",
    "# Print the grouped data\n",
    "print(grouped_data)"
   ]
  },
  {
   "cell_type": "code",
   "execution_count": 7,
   "id": "d0424911",
   "metadata": {},
   "outputs": [
    {
     "data": {
      "image/png": "[encoded data removed]",
      "text/plain": [
       "<Figure size 640x480 with 1 Axes>"
      ]
     },
     "metadata": {},
     "output_type": "display_data"
    },
    {
     "data": {
      "image/png": "[encoded data removed]",
      "text/plain": [
       "<Figure size 640x480 with 1 Axes>"
      ]
     },
     "metadata": {},
     "output_type": "display_data"
    }
   ],
   "source": [
    "import matplotlib.pyplot as plt\n",
    "\n",
    "# Plot a histogram of the Age variable\n",
    "plt.hist(df['Age'])\n",
    "plt.xlabel('Age')\n",
    "plt.ylabel('Frequency')\n",
    "plt.title('Histogram of Age')\n",
    "plt.show()\n",
    "\n",
    "# Plot a scatter plot between Age and Income\n",
    "plt.scatter(df['Age'], df['Annual Income'])\n",
    "plt.xlabel('Age')\n",
    "plt.ylabel('Annual Income')\n",
    "plt.title('Scatter Plot: Age vs. Annual Income')\n",
    "plt.show()"
   ]
  },
  {
   "cell_type": "code",
   "execution_count": null,
   "id": "a88aab2e",
   "metadata": {},
   "outputs": [],
   "source": []
  }
 ],
 "metadata": {
  "kernelspec": {
   "display_name": "Python 3 (ipykernel)",
   "language": "python",
   "name": "python3"
  },
  "language_info": {
   "codemirror_mode": {
    "name": "ipython",
    "version": 3
   },
   "file_extension": ".py",
   "mimetype": "text/x-python",
   "name": "python",
   "nbconvert_exporter": "python",
   "pygments_lexer": "ipython3",
   "version": "3.11.3"
  }
 },
 "nbformat": 4,
 "nbformat_minor": 5
}
